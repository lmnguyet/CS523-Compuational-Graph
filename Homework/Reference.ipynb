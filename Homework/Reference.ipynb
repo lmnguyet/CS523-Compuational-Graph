{
  "nbformat": 4,
  "nbformat_minor": 0,
  "metadata": {
    "colab": {
      "provenance": []
    },
    "kernelspec": {
      "name": "python3",
      "display_name": "Python 3"
    },
    "language_info": {
      "name": "python"
    }
  },
  "cells": [
    {
      "cell_type": "code",
      "source": [
        "import numpy as np\n",
        "import pandas as pd\n",
        "import torch\n",
        "from google.colab import drive \n",
        "learning_rate=0.01\n",
        "drive.mount(\"/content/drive\")\n",
        "path=\"/content/drive/MyDrive/TRAIN2.xlsx\"\n",
        "df=pd.read_excel(path)\n",
        "X=torch.tensor(df[\"midterm\"],dtype=torch.float32)\n",
        "X=X.reshape(515,1)\n",
        "Y=torch.tensor(df[\"final\"],dtype=torch.float32)\n",
        "Y=Y.reshape(515,1)\n",
        "W=torch.tensor([[0]],dtype=torch.float32,requires_grad=True)\n",
        "b=torch.tensor([[0]],dtype=torch.float32,requires_grad=True)"
      ],
      "metadata": {
        "colab": {
          "base_uri": "https://localhost:8080/"
        },
        "id": "0fpI-u9OyIoU",
        "outputId": "cd5aa906-3449-4860-d00c-67a8fe4bfcc1"
      },
      "execution_count": null,
      "outputs": [
        {
          "output_type": "stream",
          "name": "stdout",
          "text": [
            "Drive already mounted at /content/drive; to attempt to forcibly remount, call drive.mount(\"/content/drive\", force_remount=True).\n"
          ]
        }
      ]
    },
    {
      "cell_type": "code",
      "source": [
        "epochs=1000\n",
        "learning_rate=0.01\n",
        "for epoch in range(epochs):\n",
        "  Y_pred=torch.matmul(X,W)+b\n",
        "  Z=Y-Y_pred\n",
        "  Loss=Z**2\n",
        "  MSE=Loss.mean()\n",
        "  MSE.backward()\n",
        "  with torch.no_grad():\n",
        "    W-=learning_rate*W.grad\n",
        "    b-=learning_rate*b.grad\n",
        "  W.grad.zero_()\n",
        "  b.grad.zero_()\n",
        "print(W,b)"
      ],
      "metadata": {
        "id": "OgmMatLcuec2",
        "colab": {
          "base_uri": "https://localhost:8080/"
        },
        "outputId": "85e8cc8b-d495-44c0-ecc9-affe09f4b488"
      },
      "execution_count": null,
      "outputs": [
        {
          "output_type": "stream",
          "name": "stdout",
          "text": [
            "tensor([[0.8000]], requires_grad=True) tensor([[2.0019]], requires_grad=True)\n"
          ]
        }
      ]
    }
  ]
}